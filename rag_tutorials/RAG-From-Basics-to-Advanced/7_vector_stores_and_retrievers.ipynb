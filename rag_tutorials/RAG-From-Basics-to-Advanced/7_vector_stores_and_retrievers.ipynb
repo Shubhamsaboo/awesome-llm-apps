{
 "cells": [
  {
   "cell_type": "markdown",
   "metadata": {},
   "source": [
    "# **Vector Stores and Retrievers**\n",
    "\n",
    "<image src=\"Images\\langchain_rag.jpg\">\n",
    "\n",
    "### Overview\n",
    "\n",
    "A vector database (VectorDB) stores and retrieves unstructured data by embedding it as vectors. At query time, it embeds the query and finds vectors most similar to the query. This process enables efficient similarity searches.\n",
    "\n",
    "**Key Features:**  \n",
    "- Stores high-dimensional vectors with associated text.  \n",
    "- Supports efficient cosine similarity searches.  \n",
    "- Allows easy addition, updating, and deletion of vectors.  \n",
    "\n",
    "Popular VectorDB options include **Chroma** and **FAISS**.\n",
    "\n",
    "### **Steps**\n",
    "> 1. Initialize an Embedding Model\n",
    "> 2. Setting a Connection with the ChromaDB\n",
    "> 3. Load a document\n",
    "> 4. Split the document into chunks\n",
    "> 5. Add Chunks to ChromaDB\n",
    "> 6. Apply Similarity Search"
   ]
  },
  {
   "cell_type": "markdown",
   "metadata": {},
   "source": [
    "### **Step 1: Initialize an Embedding Model**"
   ]
  },
  {
   "cell_type": "code",
   "execution_count": 6,
   "metadata": {},
   "outputs": [],
   "source": [
    "# !pip install langchain-huggingface"
   ]
  },
  {
   "cell_type": "code",
   "execution_count": 2,
   "metadata": {},
   "outputs": [],
   "source": [
    "from langchain_huggingface import HuggingFaceEmbeddings\n",
    "\n",
    "embedding_model = HuggingFaceEmbeddings(model_name=\"sentence-transformers/all-mpnet-base-v2\")"
   ]
  },
  {
   "cell_type": "markdown",
   "metadata": {},
   "source": [
    "### **Step 2: Setting a Connection with the ChromaDB**"
   ]
  },
  {
   "cell_type": "code",
   "execution_count": 7,
   "metadata": {},
   "outputs": [],
   "source": [
    "# !pip install langchain-chroma"
   ]
  },
  {
   "cell_type": "code",
   "execution_count": 3,
   "metadata": {},
   "outputs": [],
   "source": [
    "from langchain_chroma import Chroma\n",
    "\n",
    "db = Chroma(collection_name=\"vector_database\",\n",
    "            embedding_function=embedding_model,\n",
    "            persist_directory='./chroma_db')"
   ]
  },
  {
   "cell_type": "code",
   "execution_count": 4,
   "metadata": {},
   "outputs": [
    {
     "data": {
      "text/plain": [
       "{'ids': [],\n",
       " 'embeddings': None,\n",
       " 'metadatas': [],\n",
       " 'documents': [],\n",
       " 'uris': None,\n",
       " 'data': None}"
      ]
     },
     "execution_count": 4,
     "metadata": {},
     "output_type": "execute_result"
    }
   ],
   "source": [
    "db.get()"
   ]
  },
  {
   "cell_type": "markdown",
   "metadata": {},
   "source": [
    "`Note:` Initially the database is empty"
   ]
  },
  {
   "cell_type": "markdown",
   "metadata": {},
   "source": [
    "### **Start 3: Load a document**"
   ]
  },
  {
   "cell_type": "code",
   "execution_count": 10,
   "metadata": {},
   "outputs": [
    {
     "name": "stderr",
     "output_type": "stream",
     "text": [
      "100%|██████████| 10/10 [00:00<00:00, 69.69it/s]\n"
     ]
    }
   ],
   "source": [
    "from langchain_community.document_loaders import DirectoryLoader\n",
    "from langchain_community.document_loaders import TextLoader\n",
    "\n",
    "loader = DirectoryLoader(path=\"example_data/subtitles\", glob=\"*.srt\", show_progress=True, loader_cls=TextLoader)\n",
    "\n",
    "data = loader.load()"
   ]
  },
  {
   "cell_type": "markdown",
   "metadata": {},
   "source": [
    "### **Step 4: Split the document into chunks**"
   ]
  },
  {
   "cell_type": "code",
   "execution_count": 11,
   "metadata": {},
   "outputs": [],
   "source": [
    "from langchain_text_splitters import RecursiveCharacterTextSplitter\n",
    "\n",
    "text_splitter = RecursiveCharacterTextSplitter.from_tiktoken_encoder(chunk_size=300)\n",
    "\n",
    "chunks = text_splitter.split_documents(data)"
   ]
  },
  {
   "cell_type": "code",
   "execution_count": 21,
   "metadata": {},
   "outputs": [
    {
     "name": "stdout",
     "output_type": "stream",
     "text": [
      "1004\n",
      "\n",
      "<class 'langchain_core.documents.base.Document'>\n",
      "\n",
      "1\n",
      "00:00:01,435 --> 00:00:04,082\n",
      "This is pretty much\n",
      "what's happened so far.\n"
     ]
    }
   ],
   "source": [
    "print(len(chunks))\n",
    "print()\n",
    "print(type(chunks[0]))\n",
    "print()\n",
    "print(chunks[0].page_content[:75])"
   ]
  },
  {
   "cell_type": "markdown",
   "metadata": {},
   "source": [
    "### **Step 5: Add Chunks to ChromaDB**"
   ]
  },
  {
   "cell_type": "code",
   "execution_count": null,
   "metadata": {},
   "outputs": [],
   "source": [
    "# db.add_documents(chunks)"
   ]
  },
  {
   "cell_type": "code",
   "execution_count": 24,
   "metadata": {},
   "outputs": [],
   "source": [
    "# db.get()"
   ]
  },
  {
   "cell_type": "markdown",
   "metadata": {},
   "source": [
    "### **Step 6: Similarity Search**"
   ]
  },
  {
   "cell_type": "code",
   "execution_count": 39,
   "metadata": {},
   "outputs": [
    {
     "data": {
      "text/plain": [
       "[{'source': 'example_data\\\\subtitles\\\\Friends_2x08.srt'},\n",
       " {'source': 'example_data\\\\subtitles\\\\Friends_2x08.srt'},\n",
       " {'source': 'example_data\\\\subtitles\\\\Friends_2x08.srt'},\n",
       " {'source': 'example_data\\\\subtitles\\\\Friends_2x08.srt'},\n",
       " {'source': 'example_data\\\\subtitles\\\\Friends_2x08.srt'}]"
      ]
     },
     "execution_count": 39,
     "metadata": {},
     "output_type": "execute_result"
    }
   ],
   "source": [
    "query = \"What is their on Julie vs Rachels List?\"\n",
    "\n",
    "relevant_chunks = db.similarity_search(query=query, k=5)\n",
    "\n",
    "metadatas = [doc.metadata for doc in relevant_chunks]\n",
    "\n",
    "metadatas"
   ]
  },
  {
   "cell_type": "code",
   "execution_count": 37,
   "metadata": {},
   "outputs": [
    {
     "name": "stdout",
     "output_type": "stream",
     "text": [
      "Type of output: <class 'list'>\n",
      "\n",
      "Type of each item in output: <class 'langchain_core.documents.base.Document'>\n",
      "\n",
      "Number of output docs: 5\n",
      "\n",
      "PRINTING THE DOCUMENT:\n",
      " 145\n",
      "00:08:42,594 --> 00:08:44,425\n",
      "No, Amish boy.\n",
      "\n",
      "146\n",
      "00:08:46,398 --> 00:08:50,061\n",
      "Let's start with the cons\n",
      "because they're more fun.\n",
      "\n",
      "147\n",
      "00:08:50,335 --> 00:08:51,165\n",
      "Rachel first.\n",
      "\n",
      "148\n",
      "00:08:52,171 --> 00:08:53,331\n",
      "I don't know.\n",
      "\n",
      "149\n",
      "00:08:53,839 --> 00:08:55,067\n",
      "I mean....\n",
      "\n",
      "150\n",
      "00:08:55,274 --> 00:08:59,802\n",
      "All right, I guess you can say\n",
      "she's a little spoiled sometimes.\n",
      "\n",
      "151\n",
      "00:09:00,245 --> 00:09:01,940\n",
      "You could say that.\n",
      "\n",
      "152\n",
      "00:09:03,816 --> 00:09:07,775\n",
      "I guess, sometimes\n",
      "she's a little ditzy, you know?\n",
      "\n",
      "153\n",
      "00:09:08,153 --> 00:09:11,088\n",
      "And I've seen her be a little\n",
      "too into her looks.\n",
      "\n",
      "154\n",
      "00:09:11,757 --> 00:09:13,816\n",
      "And Julie and I have\n",
      "a lot in common...\n"
     ]
    }
   ],
   "source": [
    "print(\"Type of output:\", type(relevant_chunks))\n",
    "print()\n",
    "print(\"Type of each item in output:\", type(relevant_chunks[0]))\n",
    "print()\n",
    "print(\"Number of output docs:\", len(relevant_chunks))\n",
    "print()\n",
    "print(\"PRINTING THE DOCUMENT:\\n\", relevant_chunks[0].page_content)"
   ]
  },
  {
   "cell_type": "markdown",
   "metadata": {},
   "source": [
    "### **Similarity Search With Score**"
   ]
  },
  {
   "cell_type": "code",
   "execution_count": 52,
   "metadata": {},
   "outputs": [
    {
     "name": "stdout",
     "output_type": "stream",
     "text": [
      "5\n"
     ]
    }
   ],
   "source": [
    "query = \"What is their on Julie vs Rachels List?\"\n",
    "\n",
    "relevant_chunks = db.similarity_search_with_score(query=query, k=5)\n",
    "\n",
    "print(len(relevant_chunks))"
   ]
  },
  {
   "cell_type": "code",
   "execution_count": 53,
   "metadata": {},
   "outputs": [
    {
     "data": {
      "text/plain": [
       "[0.6429129838943481,\n",
       " 0.6612476110458374,\n",
       " 0.798521101474762,\n",
       " 0.8262538313865662,\n",
       " 0.8489298820495605]"
      ]
     },
     "execution_count": 53,
     "metadata": {},
     "output_type": "execute_result"
    }
   ],
   "source": [
    "# Similarity Score\n",
    "\n",
    "[doc[1] for doc in relevant_chunks]"
   ]
  },
  {
   "cell_type": "markdown",
   "metadata": {},
   "source": [
    "### **Similarity Search By Vector**"
   ]
  },
  {
   "cell_type": "code",
   "execution_count": 55,
   "metadata": {},
   "outputs": [
    {
     "name": "stdout",
     "output_type": "stream",
     "text": [
      "5\n"
     ]
    }
   ],
   "source": [
    "query = \"What is their on Julie vs Rachels List?\"\n",
    "\n",
    "vector_query = embedding_model.embed_query(query)\n",
    "\n",
    "relevant_chunks = db.similarity_search_by_vector(embedding=vector_query, k=5)\n",
    "\n",
    "print(len(relevant_chunks))"
   ]
  },
  {
   "cell_type": "code",
   "execution_count": 56,
   "metadata": {},
   "outputs": [
    {
     "data": {
      "text/plain": [
       "[{'source': 'example_data\\\\subtitles\\\\Friends_2x08.srt'},\n",
       " {'source': 'example_data\\\\subtitles\\\\Friends_2x08.srt'},\n",
       " {'source': 'example_data\\\\subtitles\\\\Friends_2x08.srt'},\n",
       " {'source': 'example_data\\\\subtitles\\\\Friends_2x08.srt'},\n",
       " {'source': 'example_data\\\\subtitles\\\\Friends_2x08.srt'}]"
      ]
     },
     "execution_count": 56,
     "metadata": {},
     "output_type": "execute_result"
    }
   ],
   "source": [
    "[doc.metadata for doc in relevant_chunks]"
   ]
  },
  {
   "cell_type": "code",
   "execution_count": null,
   "metadata": {},
   "outputs": [],
   "source": []
  }
 ],
 "metadata": {
  "kernelspec": {
   "display_name": "geminienv",
   "language": "python",
   "name": "python3"
  },
  "language_info": {
   "codemirror_mode": {
    "name": "ipython",
    "version": 3
   },
   "file_extension": ".py",
   "mimetype": "text/x-python",
   "name": "python",
   "nbconvert_exporter": "python",
   "pygments_lexer": "ipython3",
   "version": "3.10.14"
  }
 },
 "nbformat": 4,
 "nbformat_minor": 2
}
