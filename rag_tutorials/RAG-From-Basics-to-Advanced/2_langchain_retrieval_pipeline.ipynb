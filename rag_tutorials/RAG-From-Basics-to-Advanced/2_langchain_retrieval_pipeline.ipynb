{
 "cells": [
  {
   "cell_type": "markdown",
   "metadata": {},
   "source": [
    "## **Langchain Data Connection**\n",
    "\n",
    "<img src=\"Images/langchain_data_connection.jpg\">\n",
    "\n",
    "**1. Document Loaders**  \n",
    "Load documents from various sources (e.g., HTML, PDFs, code). LangChain supports over 100 loaders, including integrations with tools like AirByte and Unstructured, for data from S3 buckets, websites, etc.\n",
    "\n",
    "**2. Text Splitting**  \n",
    "Splits large documents into smaller, manageable chunks optimized for specific formats (e.g., code, markdown). This ensures efficient retrieval of relevant document parts.\n",
    "\n",
    "**3. Text Embedding Models**  \n",
    "Transforms text into vector embeddings that capture semantic meaning, enabling similarity-based searches. LangChain supports 25+ embedding providers, offering flexibility in model selection.\n",
    "\n",
    "**4. Vector Stores**  \n",
    "Efficiently store and search embeddings. LangChain integrates with 50+ vector databases, from local open-source solutions to cloud-hosted options, with a standard interface for easy switching.\n",
    "\n",
    "**5. Retrievers**  \n",
    "Retrieve relevant data from vector stores. LangChain offers various retrieval methods:  \n",
    "- **Parent Document Retriever**: Fetches smaller chunks but returns larger context.  \n",
    "- **Self Query Retriever**: Parses user queries to apply semantic and metadata filters.  \n",
    "- **Ensemble Retriever**: Combines multiple sources or algorithms for retrieval.  \n",
    "\n",
    "**6. Indexing**  \n",
    "Optimizes syncing data into vector stores by avoiding duplication, skipping unchanged content, and saving time and cost during embedding computations.\n",
    "\n",
    "LangChain streamlines the retrieval pipeline, ensuring efficient and cost-effective data preparation and querying.\n",
    "\n",
    "**credits:** [ThatAIGuy GitHub Repository](https://github.com/bansalkanav/Generative-AI-Scratch-2-Advance-By-ThatAIGuy)"
   ]
  },
  {
   "cell_type": "code",
   "execution_count": null,
   "metadata": {
    "vscode": {
     "languageId": "plaintext"
    }
   },
   "outputs": [],
   "source": []
  }
 ],
 "metadata": {
  "language_info": {
   "name": "python"
  }
 },
 "nbformat": 4,
 "nbformat_minor": 2
}
