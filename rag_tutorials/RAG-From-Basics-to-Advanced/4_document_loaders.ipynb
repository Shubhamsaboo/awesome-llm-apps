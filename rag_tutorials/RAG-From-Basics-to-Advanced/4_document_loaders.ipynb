{
 "cells": [
  {
   "cell_type": "markdown",
   "metadata": {},
   "source": [
    "## **Document Loaders in LangChain**"
   ]
  },
  {
   "cell_type": "markdown",
   "metadata": {},
   "source": [
    "### **1. Text File Example**"
   ]
  },
  {
   "cell_type": "code",
   "execution_count": 1,
   "metadata": {},
   "outputs": [],
   "source": [
    "from langchain_community.document_loaders import TextLoader\n",
    "\n",
    "loader = TextLoader('./example_data/example_text.md')\n",
    "\n",
    "data = loader.load()"
   ]
  },
  {
   "cell_type": "code",
   "execution_count": 2,
   "metadata": {},
   "outputs": [
    {
     "name": "stdout",
     "output_type": "stream",
     "text": [
      "Type of Data Variable:  <class 'list'>\n",
      "\n",
      "Number of Documents:  1\n",
      "\n",
      "Type of each datapoints: <class 'langchain_core.documents.base.Document'>\n",
      "\n",
      "Metadata:  {'source': './example_data/example_text.md'}\n",
      "\n",
      "Page Content:\n",
      "# Sample Markdown File  \n",
      "This is a sample text file for practice.  \n",
      "It contains headings, bullet points, and plain text.  \n",
      "\n",
      "## Key Points  \n",
      "- Markdown is lightweight and simple.  \n",
      "- It is widely used \n"
     ]
    }
   ],
   "source": [
    "print(\"Type of Data Variable: \", type(data))\n",
    "print()\n",
    "print(\"Number of Documents: \", len(data))\n",
    "print()\n",
    "print(\"Type of each datapoints:\", type(data[0]))\n",
    "print()\n",
    "print(\"Metadata: \", data[0].metadata)\n",
    "print()\n",
    "print(\"Page Content:\")\n",
    "print(data[0].page_content[:200])"
   ]
  },
  {
   "cell_type": "markdown",
   "metadata": {},
   "source": [
    "### **2. CSV Loaders**"
   ]
  },
  {
   "cell_type": "code",
   "execution_count": 3,
   "metadata": {},
   "outputs": [],
   "source": [
    "from langchain_community.document_loaders import CSVLoader\n",
    "\n",
    "loader = CSVLoader(\"./example_data/mlb_teams_2012.csv\")\n",
    "\n",
    "data = loader.load()"
   ]
  },
  {
   "cell_type": "code",
   "execution_count": 4,
   "metadata": {},
   "outputs": [
    {
     "name": "stdout",
     "output_type": "stream",
     "text": [
      "Type of Data Variable:  <class 'list'>\n",
      "\n",
      "Number of Documents:  4\n",
      "\n",
      "Type of each datapoints: <class 'langchain_core.documents.base.Document'>\n",
      "\n",
      "Metadata:  {'source': './example_data/mlb_teams_2012.csv', 'row': 0}\n",
      "Metadata:  {'source': './example_data/mlb_teams_2012.csv', 'row': 1}\n",
      "\n",
      "Page Content:\n",
      "Team: Yankees\n",
      "City: New York\n",
      "Championships: 27\n",
      "Team: Red Sox\n",
      "City: Boston\n",
      "Championships: 9\n"
     ]
    }
   ],
   "source": [
    "print(\"Type of Data Variable: \", type(data))\n",
    "print()\n",
    "print(\"Number of Documents: \", len(data))\n",
    "print()\n",
    "print(\"Type of each datapoints:\", type(data[0]))\n",
    "print()\n",
    "print(\"Metadata: \", data[0].metadata)\n",
    "print(\"Metadata: \", data[1].metadata)\n",
    "print()\n",
    "print(\"Page Content:\")\n",
    "print(data[0].page_content[:200])\n",
    "print(data[1].page_content[:200])"
   ]
  },
  {
   "cell_type": "markdown",
   "metadata": {},
   "source": [
    "### **3. HTML Loaders**"
   ]
  },
  {
   "cell_type": "code",
   "execution_count": 5,
   "metadata": {},
   "outputs": [],
   "source": [
    "# !pip install \"unstructured[all-docs]\""
   ]
  },
  {
   "cell_type": "code",
   "execution_count": 6,
   "metadata": {},
   "outputs": [],
   "source": [
    "from langchain_community.document_loaders import UnstructuredHTMLLoader\n",
    "loader = UnstructuredHTMLLoader(\"./example_data/fake-content.html\")\n",
    "data = loader.load()"
   ]
  },
  {
   "cell_type": "code",
   "execution_count": 7,
   "metadata": {},
   "outputs": [
    {
     "name": "stdout",
     "output_type": "stream",
     "text": [
      "Type of Data Variable:  <class 'list'>\n",
      "\n",
      "Number of Documents:  1\n",
      "\n",
      "Type of each datapoints: <class 'langchain_core.documents.base.Document'>\n",
      "\n",
      "Metadata:  {'source': './example_data/fake-content.html'}\n",
      "\n",
      "Page Content:\n",
      "Welcome to LangChain Practice\n",
      "\n",
      "This is a sample HTML file to practice with document loaders.\n"
     ]
    }
   ],
   "source": [
    "print(\"Type of Data Variable: \", type(data))\n",
    "print()\n",
    "print(\"Number of Documents: \", len(data))\n",
    "print()\n",
    "print(\"Type of each datapoints:\", type(data[0]))\n",
    "print()\n",
    "print(\"Metadata: \", data[0].metadata)\n",
    "print()\n",
    "print(\"Page Content:\")\n",
    "print(data[0].page_content[:200])"
   ]
  },
  {
   "cell_type": "markdown",
   "metadata": {},
   "source": [
    "### **4. Web Base Loader** "
   ]
  },
  {
   "cell_type": "code",
   "execution_count": 8,
   "metadata": {},
   "outputs": [
    {
     "name": "stderr",
     "output_type": "stream",
     "text": [
      "USER_AGENT environment variable not set, consider setting it to identify your requests.\n"
     ]
    }
   ],
   "source": [
    "from langchain_community.document_loaders import WebBaseLoader\n",
    "\n",
    "loader = WebBaseLoader(\"https://docs.smith.langchain.com/user_guide\")\n",
    "\n",
    "data = loader.load()"
   ]
  },
  {
   "cell_type": "code",
   "execution_count": 9,
   "metadata": {},
   "outputs": [
    {
     "name": "stdout",
     "output_type": "stream",
     "text": [
      "Type of Data Variable:  <class 'list'>\n",
      "\n",
      "Number of Documents:  1\n",
      "\n",
      "Type of each datapoints: <class 'langchain_core.documents.base.Document'>\n",
      "\n",
      "Metadata:  https://docs.smith.langchain.com/user_guide\n",
      "Metadata:  LangSmith User Guide | ü¶úÔ∏èüõ†Ô∏è LangSmith\n",
      "Metadata:  LangSmith is a platform for LLM application development\n",
      "\n",
      "Page Content:\n",
      "\n",
      "\n",
      "\n",
      "\n",
      "\n",
      "LangSmith User Guide | ü¶úÔ∏èüõ†Ô∏è LangSmith\n",
      "\n",
      "\n",
      "\n",
      "\n",
      "\n",
      "\n",
      "Skip to main contentGo to API DocsSearchRegionUSEUGo to AppQuick StartUser GuideTracingEvaluationProduction Monitoring & AutomationsPrompt Hu\n"
     ]
    }
   ],
   "source": [
    "print(\"Type of Data Variable: \", type(data))\n",
    "print()\n",
    "print(\"Number of Documents: \", len(data))\n",
    "print()\n",
    "print(\"Type of each datapoints:\", type(data[0]))\n",
    "print()\n",
    "print(\"Metadata: \", data[0].metadata['source'])\n",
    "print(\"Metadata: \", data[0].metadata['title'])\n",
    "print(\"Metadata: \", data[0].metadata['description'][:55])\n",
    "print()\n",
    "print(\"Page Content:\")\n",
    "print(data[0].page_content[:200])"
   ]
  },
  {
   "cell_type": "markdown",
   "metadata": {},
   "source": [
    "### **5. JSON Loaders**"
   ]
  },
  {
   "cell_type": "code",
   "execution_count": 10,
   "metadata": {},
   "outputs": [],
   "source": [
    "# !pip install jq"
   ]
  },
  {
   "cell_type": "code",
   "execution_count": 11,
   "metadata": {},
   "outputs": [],
   "source": [
    "from langchain_community.document_loaders import JSONLoader\n",
    "\n",
    "loader = JSONLoader(\n",
    "    file_path='./example_data/facebook_chat.json',\n",
    "    jq_schema='.messages[].content',\n",
    "    text_content=False\n",
    ")\n",
    "\n",
    "data = loader.load()"
   ]
  },
  {
   "cell_type": "code",
   "execution_count": 12,
   "metadata": {},
   "outputs": [
    {
     "name": "stdout",
     "output_type": "stream",
     "text": [
      "Type of Data Variable:  <class 'list'>\n",
      "\n",
      "Number of Documents:  2\n",
      "\n",
      "Type of each datapoints: <class 'langchain_core.documents.base.Document'>\n",
      "\n",
      "Metadata:  {'source': 'C:\\\\Users\\\\91889\\\\OneDrive\\\\Desktop\\\\RAG\\\\example_data\\\\facebook_chat.json', 'seq_num': 1}\n",
      "Metadata:  {'source': 'C:\\\\Users\\\\91889\\\\OneDrive\\\\Desktop\\\\RAG\\\\example_data\\\\facebook_chat.json', 'seq_num': 2}\n",
      "\n",
      "Page Content:\n",
      "Hi, how are you?\n",
      "I'm fine, thank you!\n"
     ]
    }
   ],
   "source": [
    "print(\"Type of Data Variable: \", type(data))\n",
    "print()\n",
    "print(\"Number of Documents: \", len(data))\n",
    "print()\n",
    "print(\"Type of each datapoints:\", type(data[0]))\n",
    "print()\n",
    "print(\"Metadata: \", data[0].metadata)\n",
    "print(\"Metadata: \", data[1].metadata)\n",
    "print()\n",
    "print(\"Page Content:\")\n",
    "print(data[0].page_content[:200])\n",
    "print(data[1].page_content[:200])"
   ]
  },
  {
   "cell_type": "markdown",
   "metadata": {},
   "source": [
    "### **6. PDF Loaders** "
   ]
  },
  {
   "cell_type": "code",
   "execution_count": 13,
   "metadata": {},
   "outputs": [],
   "source": [
    "# !pip install pypdf"
   ]
  },
  {
   "cell_type": "code",
   "execution_count": 14,
   "metadata": {},
   "outputs": [],
   "source": [
    "from langchain_community.document_loaders import PyPDFLoader\n",
    "loader = PyPDFLoader(\"example_data/example-paper.pdf\")\n",
    "pages = loader.load_and_split()"
   ]
  },
  {
   "cell_type": "code",
   "execution_count": 15,
   "metadata": {},
   "outputs": [
    {
     "name": "stdout",
     "output_type": "stream",
     "text": [
      "Type of Data Variable:  <class 'list'>\n",
      "\n",
      "Number of Documents:  1\n",
      "\n",
      "Type of each datapoints: <class 'langchain_core.documents.base.Document'>\n",
      "\n",
      "Metadata:  {'source': 'example_data/example-paper.pdf', 'page': 0}\n",
      "\n",
      "Page Content:\n",
      "LangChain Practice \n",
      " \n",
      "This is a sample PDF file for testing document loaders.   \n",
      "It includes plain text and can be split into pages for testing purposes.\n"
     ]
    }
   ],
   "source": [
    "print(\"Type of Data Variable: \", type(pages))\n",
    "print()\n",
    "print(\"Number of Documents: \", len(pages))\n",
    "print()\n",
    "print(\"Type of each datapoints:\", type(pages[0]))\n",
    "print()\n",
    "print(\"Metadata: \", pages[0].metadata)\n",
    "print()\n",
    "print(\"Page Content:\")\n",
    "print(pages[0].page_content[:200])"
   ]
  },
  {
   "cell_type": "markdown",
   "metadata": {},
   "source": [
    "### **Loading one .srt File**"
   ]
  },
  {
   "cell_type": "code",
   "execution_count": 16,
   "metadata": {},
   "outputs": [],
   "source": [
    "from langchain_community.document_loaders import TextLoader\n",
    "\n",
    "loader = TextLoader('./example_data/subtitles/Friends_2x01.srt')\n",
    "\n",
    "data = loader.load()"
   ]
  },
  {
   "cell_type": "code",
   "execution_count": 24,
   "metadata": {},
   "outputs": [
    {
     "name": "stdout",
     "output_type": "stream",
     "text": [
      "Type of Data Variable:  <class 'list'>\n",
      "\n",
      "Number of Documents:  1\n",
      "\n",
      "Type of each datapoints: <class 'langchain_core.documents.base.Document'>\n",
      "\n",
      "Metadata:  {'source': './example_data/subtitles/Friends_2x01.srt'}\n",
      "\n",
      "Page Content:\n",
      "1\n",
      "00:00:01,435 --> 00:00:04,082\n",
      "This is pretty much\n",
      "what's happened so far.\n",
      "\n",
      "2\n",
      "00:00:04,395 --> 00:00:07,179\n",
      "Ross was in love\n",
      "with Rachel since forever.\n"
     ]
    }
   ],
   "source": [
    "print(\"Type of Data Variable: \", type(data))\n",
    "print()\n",
    "print(\"Number of Documents: \", len(data))\n",
    "print()\n",
    "print(\"Type of each datapoints:\", type(data[0]))\n",
    "print()\n",
    "print(\"Metadata: \", data[0].metadata)\n",
    "print()\n",
    "print(\"Page Content:\")\n",
    "print(data[0].page_content[:152])"
   ]
  },
  {
   "cell_type": "markdown",
   "metadata": {},
   "source": [
    "### **7. Loading Multiple .srt File**"
   ]
  },
  {
   "cell_type": "code",
   "execution_count": 25,
   "metadata": {},
   "outputs": [
    {
     "name": "stderr",
     "output_type": "stream",
     "text": [
      "100%|██████████| 10/10 [00:00<00:00, 61.41it/s]\n"
     ]
    }
   ],
   "source": [
    "from langchain_community.document_loaders import DirectoryLoader\n",
    "\n",
    "loader = DirectoryLoader('example_data/subtitles', glob=\"*.srt\", show_progress=True, loader_cls=TextLoader)\n",
    "\n",
    "data = loader.load()"
   ]
  },
  {
   "cell_type": "code",
   "execution_count": 26,
   "metadata": {},
   "outputs": [
    {
     "name": "stdout",
     "output_type": "stream",
     "text": [
      "Type of Data Variable:  <class 'list'>\n",
      "Number of Documents: 10\n"
     ]
    }
   ],
   "source": [
    "print(\"Type of Data Variable: \", type(data))\n",
    "\n",
    "print(\"Number of Documents:\", len(data))"
   ]
  },
  {
   "cell_type": "code",
   "execution_count": null,
   "metadata": {},
   "outputs": [],
   "source": []
  }
 ],
 "metadata": {
  "kernelspec": {
   "display_name": "geminienv",
   "language": "python",
   "name": "python3"
  },
  "language_info": {
   "codemirror_mode": {
    "name": "ipython",
    "version": 3
   },
   "file_extension": ".py",
   "mimetype": "text/x-python",
   "name": "python",
   "nbconvert_exporter": "python",
   "pygments_lexer": "ipython3",
   "version": "3.10.14"
  }
 },
 "nbformat": 4,
 "nbformat_minor": 2
}
