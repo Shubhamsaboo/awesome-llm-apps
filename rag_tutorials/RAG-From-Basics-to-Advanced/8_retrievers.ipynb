{
 "cells": [
  {
   "cell_type": "markdown",
   "metadata": {},
   "source": [
    "### **Introduction to Retrievers (Concise)**\n",
    "\n",
    "A **retriever** is an interface that returns documents based on an unstructured query, accepting a string as input and providing a list of documents as output. While vector stores can act as retrievers using the `as_retriever()` method, retrievers can also include other retrieval methods.\n",
    "\n",
    "**Search Types:** \n",
    "   - Top k\n",
    "   - Similarity\n",
    "   - Maximum Marginal Relevance (MMR)\n",
    "   - Similarity Score Threshold\n",
    "\n",
    "\n",
    "1. **Specify Top k**\n",
    "    ```python\n",
    "    retriever = db_connection.as_retriever(search_kwargs={\"k\": 3})\n",
    "    ```\n",
    "2. **Specify Top k and Search Type**\n",
    "    ```python\n",
    "    retriever = db_connection.as_retriever(search_type=\"similarity\", search_kwargs={\"k\": 3})\n",
    "    ```\n",
    "3. **Maximum Marginal Relevance Retrieval**\n",
    "    ```python\n",
    "    retriever = db_connection.as_retriever(search_type=\"mmr\")\n",
    "    ```\n",
    "4. **Similarity Score Threshold Retrieval**  \n",
    "    Apply a cutoff or a threshold such that any document which is below the cutoff is not returned.\n",
    "    ```python\n",
    "    retriever = db_connection.as_retriever(\n",
    "        search_type=\"similarity_score_threshold\", \n",
    "        search_kwargs={\"k\": 3, \"score_threshold\": 0.5}\n",
    "    )\n",
    "    ```"
   ]
  },
  {
   "cell_type": "markdown",
   "metadata": {},
   "source": [
    "### **Step 1: Initialize an Embedding Model**"
   ]
  },
  {
   "cell_type": "code",
   "execution_count": 2,
   "metadata": {},
   "outputs": [],
   "source": [
    "from langchain_huggingface import HuggingFaceEmbeddings\n",
    "\n",
    "embedding_model = HuggingFaceEmbeddings(model_name=\"sentence-transformers/all-mpnet-base-v2\")"
   ]
  },
  {
   "cell_type": "markdown",
   "metadata": {},
   "source": [
    "### **Step 2: Setting a Connection with the ChromaDB**"
   ]
  },
  {
   "cell_type": "code",
   "execution_count": 3,
   "metadata": {},
   "outputs": [],
   "source": [
    "from langchain_chroma import Chroma\n",
    "\n",
    "db = Chroma(collection_name=\"vector_database\",\n",
    "            embedding_function=embedding_model,\n",
    "            persist_directory='./chroma_db')"
   ]
  },
  {
   "cell_type": "code",
   "execution_count": 5,
   "metadata": {},
   "outputs": [
    {
     "name": "stdout",
     "output_type": "stream",
     "text": [
      "1004\n"
     ]
    }
   ],
   "source": [
    "# We can check the already existing values\n",
    "print(len(db.get()[\"ids\"]))"
   ]
  },
  {
   "cell_type": "markdown",
   "metadata": {},
   "source": [
    "### **Step 3: Setup Retriever**"
   ]
  },
  {
   "cell_type": "code",
   "execution_count": 6,
   "metadata": {},
   "outputs": [
    {
     "name": "stdout",
     "output_type": "stream",
     "text": [
      "<class 'langchain_core.vectorstores.base.VectorStoreRetriever'>\n"
     ]
    }
   ],
   "source": [
    "retriever = db.as_retriever(search_type=\"similarity\", search_kwargs={'k': 3})\n",
    "\n",
    "print(type(retriever))"
   ]
  },
  {
   "cell_type": "code",
   "execution_count": 7,
   "metadata": {},
   "outputs": [],
   "source": [
    "query = \"What is their on Julie vs Rachels List?\"\n",
    "\n",
    "result = retriever.invoke(query)"
   ]
  },
  {
   "cell_type": "code",
   "execution_count": 16,
   "metadata": {},
   "outputs": [
    {
     "data": {
      "text/plain": [
       "[Document(metadata={'source': 'example_data\\\\subtitles\\\\Friends_2x08.srt'}, page_content=\"145\\n00:08:42,594 --> 00:08:44,425\\nNo, Amish boy.\\n\\n146\\n00:08:46,398 --> 00:08:50,061\\nLet's start with the cons\\nbecause they're more fun.\\n\\n147\\n00:08:50,335 --> 00:08:51,165\\nRachel first.\\n\\n148\\n00:08:52,171 --> 00:08:53,331\\nI don't know.\\n\\n149\\n00:08:53,839 --> 00:08:55,067\\nI mean....\\n\\n150\\n00:08:55,274 --> 00:08:59,802\\nAll right, I guess you can say\\nshe's a little spoiled sometimes.\\n\\n151\\n00:09:00,245 --> 00:09:01,940\\nYou could say that.\\n\\n152\\n00:09:03,816 --> 00:09:07,775\\nI guess, sometimes\\nshe's a little ditzy, you know?\\n\\n153\\n00:09:08,153 --> 00:09:11,088\\nAnd I've seen her be a little\\ntoo into her looks.\\n\\n154\\n00:09:11,757 --> 00:09:13,816\\nAnd Julie and I have\\na lot in common...\"),\n",
       " Document(metadata={'source': 'example_data\\\\subtitles\\\\Friends_2x08.srt'}, page_content=\"149\\n00:08:53,839 --> 00:08:55,067\\nI mean....\\n\\n150\\n00:08:55,274 --> 00:08:59,802\\nAll right, I guess you can say\\nshe's a little spoiled sometimes.\\n\\n151\\n00:09:00,245 --> 00:09:01,940\\nYou could say that.\\n\\n152\\n00:09:03,816 --> 00:09:07,775\\nI guess, sometimes\\nshe's a little ditzy, you know?\\n\\n153\\n00:09:08,153 --> 00:09:11,088\\nAnd I've seen her be a little\\ntoo into her looks.\\n\\n154\\n00:09:11,757 --> 00:09:13,816\\nAnd Julie and I have\\na lot in common...\\n\\n155\\n00:09:14,092 --> 00:09:16,959\\n... because we're both\\npaleontologists, right?\\n\\n156\\n00:09:17,196 --> 00:09:19,027\\nBut Rachel's just a waitress.\\n\\n157\\n00:09:19,264 --> 00:09:20,663\\nWaitress.\"),\n",
       " Document(metadata={'source': 'example_data\\\\subtitles\\\\Friends_2x08.srt'}, page_content='40\\n00:02:48,602 --> 00:02:51,730\\n...and I see Julie\\'s saline solution\\non my night table...\\n\\n41\\n00:02:52,106 --> 00:02:54,438\\n...and I think,\\n\"My God! What am I doing?\"\\n\\n42\\n00:02:54,642 --> 00:02:57,543\\nHere I am with Julie,\\nthis incredible, great woman...\\n\\n43\\n00:02:57,745 --> 00:03:00,441\\n...who I care about\\nand who cares about me...\\n\\n44\\n00:03:00,681 --> 00:03:02,774\\n...and I\\'m just\\nthrowing all that away?\\n\\n45\\n00:03:03,351 --> 00:03:05,410\\nYou got all that\\nfrom saline solution?\\n\\n46\\n00:03:06,910 --> 00:03:11,010\\nI\\'m the same way.Show me a bottle of wine.\\nand I\\'m like, Wow, who am I?\\n\\n47\\n00:03:13,254 --> 00:03:16,553\\nWait. We\\'re talking about Rachel.\\nYou and Rachel.')]"
      ]
     },
     "execution_count": 16,
     "metadata": {},
     "output_type": "execute_result"
    }
   ],
   "source": [
    "result"
   ]
  },
  {
   "cell_type": "code",
   "execution_count": null,
   "metadata": {},
   "outputs": [],
   "source": []
  }
 ],
 "metadata": {
  "kernelspec": {
   "display_name": "geminienv",
   "language": "python",
   "name": "python3"
  },
  "language_info": {
   "codemirror_mode": {
    "name": "ipython",
    "version": 3
   },
   "file_extension": ".py",
   "mimetype": "text/x-python",
   "name": "python",
   "nbconvert_exporter": "python",
   "pygments_lexer": "ipython3",
   "version": "3.10.14"
  }
 },
 "nbformat": 4,
 "nbformat_minor": 2
}
