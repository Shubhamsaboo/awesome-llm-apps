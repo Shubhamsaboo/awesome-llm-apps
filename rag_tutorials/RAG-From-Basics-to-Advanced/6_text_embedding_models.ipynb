{
 "cells": [
  {
   "cell_type": "markdown",
   "metadata": {},
   "source": [
    "# **Text Embedding Models**\n",
    "\n",
    "The Embeddings class is a class designed for interfacing with text embedding models. There are lots of embedding model providers (OpenAI, Cohere, Hugging Face, etc) - this class is designed to provide a standard interface for all of them."
   ]
  },
  {
   "cell_type": "markdown",
   "metadata": {},
   "source": [
    "### **HuggingFace Embeddings**"
   ]
  },
  {
   "cell_type": "code",
   "execution_count": 3,
   "metadata": {},
   "outputs": [],
   "source": [
    "# !pip install langchain-huggingface"
   ]
  },
  {
   "cell_type": "code",
   "execution_count": 5,
   "metadata": {},
   "outputs": [],
   "source": [
    "from langchain_huggingface import HuggingFaceEmbeddings\n",
    "\n",
    "embeddings_model = HuggingFaceEmbeddings(model_name=\"sentence-transformers/all-mpnet-base-v2\")"
   ]
  },
  {
   "cell_type": "code",
   "execution_count": 6,
   "metadata": {},
   "outputs": [],
   "source": [
    "documents = embeddings_model.embed_documents([\n",
    "                    \"Hi there!\",\n",
    "                    \"Oh, hello!\",\n",
    "                    \"What's your name?\",\n",
    "                    \"My friends call me World\",\n",
    "                    \"Hello World!\"\n",
    "])"
   ]
  },
  {
   "cell_type": "code",
   "execution_count": 7,
   "metadata": {},
   "outputs": [
    {
     "name": "stdout",
     "output_type": "stream",
     "text": [
      "Type of variable: <class 'list'>\n",
      "Number of embeddings: 5\n",
      "Dimensionality of each embedding: 768\n"
     ]
    }
   ],
   "source": [
    "print(\"Type of variable:\", type(documents))\n",
    "\n",
    "print(\"Number of embeddings:\", len(documents))\n",
    "\n",
    "print(\"Dimensionality of each embedding:\", len(documents[0]))"
   ]
  },
  {
   "cell_type": "code",
   "execution_count": 10,
   "metadata": {},
   "outputs": [
    {
     "data": {
      "text/plain": [
       "[0.04065169021487236,\n",
       " 0.03861415386199951,\n",
       " -0.023672452196478844,\n",
       " 0.04480362683534622,\n",
       " 0.06722121685743332,\n",
       " -0.03028145059943199,\n",
       " 0.0023203198798000813,\n",
       " 0.05043627321720123,\n",
       " 0.04003800451755524,\n",
       " -0.008837741799652576]"
      ]
     },
     "execution_count": 10,
     "metadata": {},
     "output_type": "execute_result"
    }
   ],
   "source": [
    "documents[0][:10]"
   ]
  },
  {
   "cell_type": "markdown",
   "metadata": {},
   "source": [
    "### **Google Generative AI Embeddings**"
   ]
  },
  {
   "cell_type": "code",
   "execution_count": 1,
   "metadata": {},
   "outputs": [],
   "source": [
    "from langchain_google_genai import GoogleGenerativeAIEmbeddings\n",
    "\n",
    "embeddings_model = GoogleGenerativeAIEmbeddings(model=\"models/embedding-001\")"
   ]
  },
  {
   "cell_type": "code",
   "execution_count": 2,
   "metadata": {},
   "outputs": [],
   "source": [
    "documents = embeddings_model.embed_documents([\n",
    "                    \"Hi there!\",\n",
    "                    \"Oh, hello!\",\n",
    "                    \"What's your name?\",\n",
    "                    \"My friends call me World\",\n",
    "                    \"Hello World!\"\n",
    "])"
   ]
  },
  {
   "cell_type": "code",
   "execution_count": 3,
   "metadata": {},
   "outputs": [
    {
     "name": "stdout",
     "output_type": "stream",
     "text": [
      "Type of variable: <class 'list'>\n",
      "Number of embeddings: 5\n",
      "Dimensionality of each embedding: 768\n"
     ]
    }
   ],
   "source": [
    "print(\"Type of variable:\", type(documents))\n",
    "\n",
    "print(\"Number of embeddings:\", len(documents))\n",
    "\n",
    "print(\"Dimensionality of each embedding:\", len(documents[0]))"
   ]
  },
  {
   "cell_type": "code",
   "execution_count": 4,
   "metadata": {},
   "outputs": [
    {
     "data": {
      "text/plain": [
       "[0.04193364828824997,\n",
       " 0.009105443954467773,\n",
       " -0.05679740756750107,\n",
       " -0.03860478475689888,\n",
       " 0.06327897310256958,\n",
       " 0.009885133244097233,\n",
       " 0.008220143616199493,\n",
       " -0.026594169437885284,\n",
       " -0.002741361502557993,\n",
       " 0.03919422626495361]"
      ]
     },
     "execution_count": 4,
     "metadata": {},
     "output_type": "execute_result"
    }
   ],
   "source": [
    "documents[0][:10]"
   ]
  },
  {
   "cell_type": "code",
   "execution_count": null,
   "metadata": {},
   "outputs": [],
   "source": []
  }
 ],
 "metadata": {
  "kernelspec": {
   "display_name": "geminienv",
   "language": "python",
   "name": "python3"
  },
  "language_info": {
   "codemirror_mode": {
    "name": "ipython",
    "version": 3
   },
   "file_extension": ".py",
   "mimetype": "text/x-python",
   "name": "python",
   "nbconvert_exporter": "python",
   "pygments_lexer": "ipython3",
   "version": "3.10.14"
  }
 },
 "nbformat": 4,
 "nbformat_minor": 2
}
